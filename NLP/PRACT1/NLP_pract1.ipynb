{
  "nbformat": 4,
  "nbformat_minor": 0,
  "metadata": {
    "colab": {
      "name": "NLP_pract1.ipynb",
      "provenance": [],
      "collapsed_sections": [],
      "authorship_tag": "ABX9TyPAiAqoDGjUFkRJQlKnqmF6",
      "include_colab_link": true
    },
    "kernelspec": {
      "name": "python3",
      "display_name": "Python 3"
    },
    "language_info": {
      "name": "python"
    }
  },
  "cells": [
    {
      "cell_type": "markdown",
      "metadata": {
        "id": "view-in-github",
        "colab_type": "text"
      },
      "source": [
        "<a href=\"https://colab.research.google.com/github/simran-sharma29/MSC-IT-PART-2/blob/main/NLP/PRACT1/NLP_pract1.ipynb\" target=\"_parent\"><img src=\"https://colab.research.google.com/assets/colab-badge.svg\" alt=\"Open In Colab\"/></a>"
      ]
    },
    {
      "cell_type": "markdown",
      "metadata": {
        "id": "3xFKhlvvHbSt"
      },
      "source": [
        "### **PRACTICAL 1**"
      ]
    },
    {
      "cell_type": "markdown",
      "metadata": {
        "id": "Z1B1RoetF7hF"
      },
      "source": [
        "A) Convert the given text to speech."
      ]
    },
    {
      "cell_type": "code",
      "execution_count": null,
      "metadata": {
        "colab": {
          "base_uri": "https://localhost:8080/"
        },
        "id": "rM5kEUFGHI24",
        "outputId": "c6c7a16f-8b1e-4edb-a3dd-c84b5dbe6781"
      },
      "outputs": [
        {
          "name": "stdout",
          "output_type": "stream",
          "text": [
            "Collecting gTTS\n",
            "  Downloading gTTS-2.2.3-py3-none-any.whl (25 kB)\n",
            "Requirement already satisfied: six in /usr/local/lib/python3.7/dist-packages (from gTTS) (1.15.0)\n",
            "Requirement already satisfied: requests in /usr/local/lib/python3.7/dist-packages (from gTTS) (2.23.0)\n",
            "Requirement already satisfied: click in /usr/local/lib/python3.7/dist-packages (from gTTS) (7.1.2)\n",
            "Requirement already satisfied: certifi>=2017.4.17 in /usr/local/lib/python3.7/dist-packages (from requests->gTTS) (2021.10.8)\n",
            "Requirement already satisfied: idna<3,>=2.5 in /usr/local/lib/python3.7/dist-packages (from requests->gTTS) (2.10)\n",
            "Requirement already satisfied: urllib3!=1.25.0,!=1.25.1,<1.26,>=1.21.1 in /usr/local/lib/python3.7/dist-packages (from requests->gTTS) (1.24.3)\n",
            "Requirement already satisfied: chardet<4,>=3.0.2 in /usr/local/lib/python3.7/dist-packages (from requests->gTTS) (3.0.4)\n",
            "Installing collected packages: gTTS\n",
            "Successfully installed gTTS-2.2.3\n"
          ]
        }
      ],
      "source": [
        "pip install gTTS"
      ]
    },
    {
      "cell_type": "code",
      "execution_count": null,
      "metadata": {
        "colab": {
          "base_uri": "https://localhost:8080/"
        },
        "id": "SJTOyC3_HQcC",
        "outputId": "2b3a6bae-48fd-45ba-e2bd-8b1fddb17b60"
      },
      "outputs": [
        {
          "name": "stdout",
          "output_type": "stream",
          "text": [
            "Collecting playsound\n",
            "  Downloading playsound-1.3.0.tar.gz (7.7 kB)\n",
            "Building wheels for collected packages: playsound\n",
            "  Building wheel for playsound (setup.py) ... \u001b[?25l\u001b[?25hdone\n",
            "  Created wheel for playsound: filename=playsound-1.3.0-py3-none-any.whl size=7035 sha256=399501c34a73ebb940a5bb4cd06c11b41d861a982f46eda60e215a4cfa881799\n",
            "  Stored in directory: /root/.cache/pip/wheels/ba/f8/bb/ea57c0146b664dca3a0ada4199b0ecb5f9dfcb7b7e22b65ba2\n",
            "Successfully built playsound\n",
            "Installing collected packages: playsound\n",
            "Successfully installed playsound-1.3.0\n"
          ]
        }
      ],
      "source": [
        "pip install playsound"
      ]
    },
    {
      "cell_type": "code",
      "execution_count": null,
      "metadata": {
        "colab": {
          "base_uri": "https://localhost:8080/"
        },
        "id": "5beD4EjmH0RH",
        "outputId": "62b3f607-4d13-4a60-9080-fdc7557dc051"
      },
      "outputs": [
        {
          "name": "stdout",
          "output_type": "stream",
          "text": [
            "Requirement already satisfied: pygobject in /usr/lib/python3/dist-packages (3.26.1)\n"
          ]
        }
      ],
      "source": [
        "pip install pygobject"
      ]
    },
    {
      "cell_type": "code",
      "execution_count": null,
      "metadata": {
        "id": "gZlDJpLPHgzL"
      },
      "outputs": [],
      "source": [
        "from playsound import playsound"
      ]
    },
    {
      "cell_type": "code",
      "execution_count": null,
      "metadata": {
        "id": "u7dDNm-BHqDX"
      },
      "outputs": [],
      "source": [
        "# import required for text to speech conversion\n",
        "from gtts import gTTS\n",
        "mytext = \"Welcome to Natural Language programming\"\n",
        "language = \"en\"\n"
      ]
    },
    {
      "cell_type": "code",
      "execution_count": null,
      "metadata": {
        "id": "1hsEOokwHvhH"
      },
      "outputs": [],
      "source": [
        "myobj = gTTS(text=mytext, lang=language, slow=False)\n",
        "myobj.save(\"myfile.mp3\")\n",
        "playsound(\"/content/myfile.mp3\")"
      ]
    },
    {
      "cell_type": "markdown",
      "metadata": {
        "id": "1tHcTeP1LsDz"
      },
      "source": [
        "c) Convert audio file Speech to Text.\n",
        "https://www.pacdv.com/sounds/voices-5.html"
      ]
    },
    {
      "cell_type": "code",
      "execution_count": null,
      "metadata": {
        "colab": {
          "base_uri": "https://localhost:8080/"
        },
        "id": "1hgRS1LVNr7S",
        "outputId": "5a722cd6-12ad-4db0-a08d-f739580dd263"
      },
      "outputs": [
        {
          "output_type": "stream",
          "name": "stdout",
          "text": [
            "Collecting SpeechRecognition\n",
            "  Downloading SpeechRecognition-3.8.1-py2.py3-none-any.whl (32.8 MB)\n",
            "\u001b[K     |████████████████████████████████| 32.8 MB 164 kB/s \n",
            "\u001b[?25hCollecting pydub\n",
            "  Downloading pydub-0.25.1-py2.py3-none-any.whl (32 kB)\n",
            "Installing collected packages: SpeechRecognition, pydub\n",
            "Successfully installed SpeechRecognition-3.8.1 pydub-0.25.1\n"
          ]
        }
      ],
      "source": [
        "pip install SpeechRecognition pydub"
      ]
    },
    {
      "cell_type": "code",
      "execution_count": null,
      "metadata": {
        "id": "1_lGt7BQN7Uv"
      },
      "outputs": [],
      "source": [
        "import speech_recognition as sr\n",
        "filename = \"/content/you-are-acting-so-weird.wav\""
      ]
    },
    {
      "cell_type": "code",
      "execution_count": null,
      "metadata": {
        "id": "KoaHzw7POCdn"
      },
      "outputs": [],
      "source": [
        "# initialize the recognizer\n",
        "r = sr.Recognizer()\n"
      ]
    },
    {
      "cell_type": "code",
      "execution_count": null,
      "metadata": {
        "colab": {
          "base_uri": "https://localhost:8080/"
        },
        "id": "WhHJsDQzRAxI",
        "outputId": "ee5770ec-ae9d-4b87-a521-ef35f9b64c23"
      },
      "outputs": [
        {
          "name": "stdout",
          "output_type": "stream",
          "text": [
            "you are acting so weird and immature\n"
          ]
        }
      ],
      "source": [
        "# open the file\n",
        "with sr.AudioFile(filename) as source:\n",
        "# listen for the data (load audio to memory)\n",
        "  audio_data = r.record(source)\n",
        "# recognize (convert from speech to text)\n",
        "  text = r.recognize_google(audio_data)\n",
        "  print(text)"
      ]
    }
  ]
}