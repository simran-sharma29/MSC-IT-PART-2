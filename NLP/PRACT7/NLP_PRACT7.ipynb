{
  "nbformat": 4,
  "nbformat_minor": 0,
  "metadata": {
    "colab": {
      "name": "NLP_PRACT7.ipynb",
      "provenance": [],
      "collapsed_sections": [],
      "authorship_tag": "ABX9TyPkCShJI8ux19Q9cJktaSce",
      "include_colab_link": true
    },
    "kernelspec": {
      "name": "python3",
      "display_name": "Python 3"
    },
    "language_info": {
      "name": "python"
    }
  },
  "cells": [
    {
      "cell_type": "markdown",
      "metadata": {
        "id": "view-in-github",
        "colab_type": "text"
      },
      "source": [
        "<a href=\"https://colab.research.google.com/github/simran-sharma29/MSC-IT-PART-2/blob/main/NLP/PRACT7/NLP_PRACT7.ipynb\" target=\"_parent\"><img src=\"https://colab.research.google.com/assets/colab-badge.svg\" alt=\"Open In Colab\"/></a>"
      ]
    },
    {
      "cell_type": "markdown",
      "source": [
        "7. Finite state automata\n",
        "a) Define grammar using nltk. Analyze a sentence using the same."
      ],
      "metadata": {
        "id": "k9goEO7uiG7k"
      }
    },
    {
      "cell_type": "code",
      "source": [
        "import nltk\n",
        "from nltk import tokenize\n",
        "grammar1 = nltk.CFG.fromstring(\"\"\"\n",
        "S -> VP\n",
        "VP -> VP NP\n",
        "NP -> Det NP\n",
        "Det -> 'that'\n",
        "NP -> singular Noun\n",
        "NP -> 'flight'\n",
        "VP -> 'Book'\n",
        "\"\"\")\n",
        "sentence = \"Book that flight\""
      ],
      "metadata": {
        "id": "pjG30aTeiHuF"
      },
      "execution_count": null,
      "outputs": []
    },
    {
      "cell_type": "code",
      "source": [
        "for index in range(len(sentence)):\n",
        "  all_tokens = tokenize.word_tokenize(sentence)\n",
        "print(all_tokens)\n",
        "parser = nltk.ChartParser(grammar1)\n",
        "for tree in parser.parse(all_tokens):\n",
        "  print(tree)\n",
        "  tree.draw()"
      ],
      "metadata": {
        "id": "ON5gtMQBiMl_"
      },
      "execution_count": null,
      "outputs": []
    },
    {
      "cell_type": "markdown",
      "source": [
        "b) Accept the input string with Regular expression of Finite Automaton: 101+."
      ],
      "metadata": {
        "id": "vmR0Xr_qiu3X"
      }
    },
    {
      "cell_type": "code",
      "source": [
        "def FA(s):\n",
        "def FA(s):\n",
        "#if the length is less than 3 then it can't be accepted, Therefore end the process.\n",
        "  if len(s)<3:\n",
        "    return \"Rejected\"\n",
        "  if s[0]=='1':\n",
        "    if s[1]=='0':\n",
        "      if s[2]=='1':\n",
        "# After index 2 only \"1\" can appear. Therefore break the process if any other character is detected\n",
        "        for i in range(3,len(s)):\n",
        "          if s[i]!='1':\n",
        "            return \"Rejected\"\n",
        "        return \"Accepted\" # if all 4 nested if true\n",
        "      return \"Rejected\" # else of 3rd if\n",
        "      return \"Rejected\" # else of 2nd if\n",
        "  return \"Rejected\" # else of 1st if\n",
        "inputs=['1','10101','101','10111','01010','100','','10111101','1011111']\n",
        "for i in inputs:\n",
        "  print(FA(i))"
      ],
      "metadata": {
        "colab": {
          "base_uri": "https://localhost:8080/"
        },
        "id": "OwiAGIhDivmg",
        "outputId": "f1b4973f-3ae5-4aba-8496-d8ca4c631a33"
      },
      "execution_count": null,
      "outputs": [
        {
          "output_type": "stream",
          "name": "stdout",
          "text": [
            "Rejected\n",
            "Rejected\n",
            "Accepted\n",
            "Accepted\n",
            "Rejected\n",
            "Rejected\n",
            "Rejected\n",
            "Rejected\n",
            "Accepted\n"
          ]
        }
      ]
    }
  ]
}