{
  "nbformat": 4,
  "nbformat_minor": 0,
  "metadata": {
    "colab": {
      "name": "NLP_PRACT9.ipynb",
      "provenance": [],
      "collapsed_sections": [],
      "authorship_tag": "ABX9TyMJwl2ujUw4aQEcOQpWh0qi",
      "include_colab_link": true
    },
    "kernelspec": {
      "name": "python3",
      "display_name": "Python 3"
    },
    "language_info": {
      "name": "python"
    }
  },
  "cells": [
    {
      "cell_type": "markdown",
      "metadata": {
        "id": "view-in-github",
        "colab_type": "text"
      },
      "source": [
        "<a href=\"https://colab.research.google.com/github/simran-sharma29/MSC-IT-PART-2/blob/main/NLP/PRACT9/NLP_PRACT9.ipynb\" target=\"_parent\"><img src=\"https://colab.research.google.com/assets/colab-badge.svg\" alt=\"Open In Colab\"/></a>"
      ]
    },
    {
      "cell_type": "markdown",
      "source": [
        "PRACTICAL 9"
      ],
      "metadata": {
        "id": "Ir4t5ZQPiAIT"
      }
    },
    {
      "cell_type": "markdown",
      "source": [
        "9. Implement Naive Bayes classifier\n"
      ],
      "metadata": {
        "id": "nplmxufJh7rZ"
      }
    },
    {
      "cell_type": "code",
      "source": [
        "pip install pandas"
      ],
      "metadata": {
        "colab": {
          "base_uri": "https://localhost:8080/"
        },
        "id": "h1996XPiv8Mo",
        "outputId": "16a49f40-6177-450c-a9fb-4091910c984c"
      },
      "execution_count": null,
      "outputs": [
        {
          "output_type": "stream",
          "name": "stdout",
          "text": [
            "Requirement already satisfied: pandas in /usr/local/lib/python3.7/dist-packages (1.3.5)\n",
            "Requirement already satisfied: python-dateutil>=2.7.3 in /usr/local/lib/python3.7/dist-packages (from pandas) (2.8.2)\n",
            "Requirement already satisfied: numpy>=1.17.3 in /usr/local/lib/python3.7/dist-packages (from pandas) (1.21.5)\n",
            "Requirement already satisfied: pytz>=2017.3 in /usr/local/lib/python3.7/dist-packages (from pandas) (2018.9)\n",
            "Requirement already satisfied: six>=1.5 in /usr/local/lib/python3.7/dist-packages (from python-dateutil>=2.7.3->pandas) (1.15.0)\n"
          ]
        }
      ]
    },
    {
      "cell_type": "code",
      "source": [
        "pip install sklearn"
      ],
      "metadata": {
        "colab": {
          "base_uri": "https://localhost:8080/"
        },
        "id": "9gxWwRkpwFMk",
        "outputId": "ce560591-3143-4c33-ef47-c9c4e2d03ad2"
      },
      "execution_count": null,
      "outputs": [
        {
          "output_type": "stream",
          "name": "stdout",
          "text": [
            "Requirement already satisfied: sklearn in /usr/local/lib/python3.7/dist-packages (0.0)\n",
            "Requirement already satisfied: scikit-learn in /usr/local/lib/python3.7/dist-packages (from sklearn) (1.0.2)\n",
            "Requirement already satisfied: numpy>=1.14.6 in /usr/local/lib/python3.7/dist-packages (from scikit-learn->sklearn) (1.21.5)\n",
            "Requirement already satisfied: threadpoolctl>=2.0.0 in /usr/local/lib/python3.7/dist-packages (from scikit-learn->sklearn) (3.1.0)\n",
            "Requirement already satisfied: scipy>=1.1.0 in /usr/local/lib/python3.7/dist-packages (from scikit-learn->sklearn) (1.4.1)\n",
            "Requirement already satisfied: joblib>=0.11 in /usr/local/lib/python3.7/dist-packages (from scikit-learn->sklearn) (1.1.0)\n"
          ]
        }
      ]
    },
    {
      "cell_type": "code",
      "source": [
        "import pandas as pd\n",
        "import numpy as np\n",
        "sms_data = pd.read_csv(\"/content/sample_data/spam.csv\", encoding='latin-1')\n",
        "import re\n",
        "import nltk\n",
        "from nltk.corpus import stopwords\n",
        "from nltk.stem.porter import PorterStemmer"
      ],
      "metadata": {
        "id": "lzPYZFLDwK1O"
      },
      "execution_count": null,
      "outputs": []
    },
    {
      "cell_type": "code",
      "source": [
        " nltk.download('stopwords')"
      ],
      "metadata": {
        "colab": {
          "base_uri": "https://localhost:8080/"
        },
        "id": "lAzqEPG9xMCo",
        "outputId": "605cba94-0ab6-4d23-a153-2b550232c451"
      },
      "execution_count": null,
      "outputs": [
        {
          "output_type": "stream",
          "name": "stdout",
          "text": [
            "[nltk_data] Downloading package stopwords to /root/nltk_data...\n",
            "[nltk_data]   Unzipping corpora/stopwords.zip.\n"
          ]
        },
        {
          "output_type": "execute_result",
          "data": {
            "text/plain": [
              "True"
            ]
          },
          "metadata": {},
          "execution_count": 7
        }
      ]
    },
    {
      "cell_type": "code",
      "source": [
        "stemming = PorterStemmer()\n",
        "corpus = []\n",
        "for i in range (0,len(sms_data)):\n",
        " s1 = re.sub('[^a-zA-Z]',repl = ' ',string = sms_data['v2'][i])\n",
        " s1.lower()\n",
        " s1 = s1.split()\n",
        " s1 = [stemming.stem(word) for word in s1 if word not in set(stopwords.words('english'))]\n",
        " s1 = ' '.join(s1)\n",
        " corpus.append(s1)\n"
      ],
      "metadata": {
        "id": "IvDKpWsgxHOF"
      },
      "execution_count": null,
      "outputs": []
    },
    {
      "cell_type": "code",
      "source": [
        "from sklearn.feature_extraction.text import CountVectorizer\n",
        "countvectorizer =CountVectorizer()\n"
      ],
      "metadata": {
        "id": "4-3ysm3dxWds"
      },
      "execution_count": null,
      "outputs": []
    },
    {
      "cell_type": "code",
      "source": [
        "x = countvectorizer.fit_transform(corpus).toarray()\n",
        "print(x)"
      ],
      "metadata": {
        "colab": {
          "base_uri": "https://localhost:8080/"
        },
        "id": "I0Qb9U7uxlXK",
        "outputId": "bec48777-c9d2-4341-f09b-baf6ee2cb9b3"
      },
      "execution_count": null,
      "outputs": [
        {
          "output_type": "stream",
          "name": "stdout",
          "text": [
            "[[0 0 0 ... 0 0 0]\n",
            " [0 0 0 ... 0 0 0]\n",
            " [0 0 0 ... 0 0 0]\n",
            " ...\n",
            " [0 0 0 ... 0 0 0]\n",
            " [0 0 0 ... 0 0 0]\n",
            " [0 0 0 ... 0 0 0]]\n"
          ]
        }
      ]
    },
    {
      "cell_type": "code",
      "source": [
        "y = sms_data['v1'].values\n",
        "print(y)\n"
      ],
      "metadata": {
        "colab": {
          "base_uri": "https://localhost:8080/"
        },
        "id": "fWwLs7LvxomY",
        "outputId": "3b880a7e-0ced-4a5f-de31-c1e2106e0169"
      },
      "execution_count": null,
      "outputs": [
        {
          "output_type": "stream",
          "name": "stdout",
          "text": [
            "['ham' 'ham' 'spam' ... 'ham' 'ham' 'ham']\n"
          ]
        }
      ]
    },
    {
      "cell_type": "code",
      "source": [
        "from sklearn.model_selection import train_test_split\n",
        "x_train,x_test,y_train,y_test = train_test_split(x,y,test_size = 0.3, \n",
        "stratify=y,random_state=2)\n",
        "#Multinomial Naïve Bayes.\n",
        "from sklearn.naive_bayes import MultinomialNB\n",
        "multinomialnb = MultinomialNB()\n",
        "multinomialnb.fit(x_train,y_train)\n",
        "# Predicting on test data:\n",
        "y_pred = multinomialnb.predict(x_test)\n",
        "print(y_pred)\n",
        "#Results of our Models\n",
        "from sklearn.metrics import classification_report, confusion_matrix\n",
        "from sklearn.metrics import accuracy_score\n",
        "print(classification_report(y_test,y_pred))\n",
        "print(\"accuracy_score: \",accuracy_score(y_test,y_pred))"
      ],
      "metadata": {
        "colab": {
          "base_uri": "https://localhost:8080/"
        },
        "id": "IB-Cvs4Cxrrk",
        "outputId": "f24a78c4-d842-437d-87bf-4970676340a6"
      },
      "execution_count": null,
      "outputs": [
        {
          "output_type": "stream",
          "name": "stdout",
          "text": [
            "['ham' 'ham' 'ham' ... 'ham' 'ham' 'ham']\n",
            "              precision    recall  f1-score   support\n",
            "\n",
            "         ham       0.99      0.99      0.99      1448\n",
            "        spam       0.92      0.93      0.92       224\n",
            "\n",
            "    accuracy                           0.98      1672\n",
            "   macro avg       0.95      0.96      0.96      1672\n",
            "weighted avg       0.98      0.98      0.98      1672\n",
            "\n",
            "accuracy_score:  0.979066985645933\n"
          ]
        }
      ]
    }
  ]
}